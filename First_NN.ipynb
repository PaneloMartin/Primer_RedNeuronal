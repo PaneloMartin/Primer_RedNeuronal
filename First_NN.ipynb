{
 "cells": [
  {
   "cell_type": "markdown",
   "id": "a89ffed3",
   "metadata": {},
   "source": [
    "# Primer red neuronal."
   ]
  },
  {
   "cell_type": "code",
   "execution_count": 16,
   "id": "10c70fac",
   "metadata": {},
   "outputs": [],
   "source": [
    "import tensorflow as tf\n",
    "import numpy as np"
   ]
  },
  {
   "cell_type": "code",
   "execution_count": 17,
   "id": "b637a49c",
   "metadata": {},
   "outputs": [],
   "source": [
    "celsius = np.array([-40, -10, 0, 8, 15, 22, 38],  dtype=float)  #Arreglo de numeros con 7 entradas de grados Celsius\n",
    "fahrenheit = np.array([-40,  14, 32, 46, 59, 72, 100], dtype=float) #Arreglo con 7 resultados en grados Fahrenheit.\n",
    "\n",
    "#Estos son los ejemplos que la red usará para aprender."
   ]
  },
  {
   "cell_type": "code",
   "execution_count": 18,
   "id": "b017f0ea",
   "metadata": {},
   "outputs": [],
   "source": [
    "#Diseño de red neuronal. Además de Tensorflow se usa el framework Keras.\n",
    "\n",
    "#Keras permite hacer las redes neuronales de manera mas simple. \n",
    "#Podemos especificar las dos capas de entrada y salida por separado o especificar solo la capa de salida.\n",
    "#Creamos una variable que sea una capa de tipo \"densa\" en Keras.\n",
    "#Las capas densas son las capas que tienen conexiones desde cada neurona hacia todas las neuronas de la siguiente capa.\n",
    "#En este caso, solo tenemos dos neuronas.\n",
    "\n",
    "capa = tf.keras.layers.Dense(units=1, input_shape=[1])\n",
    "\n",
    "#Estas capas ahora estan en el aire. Necesito usar un modelo de Keras para darle las capas y poder trabajar.\n",
    "#Se usa un modelo secuencial.\n",
    "\n",
    "modelo = tf.keras.Sequential([capa])\n"
   ]
  },
  {
   "cell_type": "code",
   "execution_count": 19,
   "id": "1de652d0",
   "metadata": {},
   "outputs": [],
   "source": [
    "#Como procesamos la matematica para que la red aprenda mejor.\n",
    "#Indicamos dos propiedades: el optimizador y la función de pérdida.\n",
    "#Para el optimizador, se usa uno llamado Adam. \n",
    "#Adam le permite a la red saber como ajustar los pesos y sesgos de manera eficiente.\n",
    "\n",
    "modelo.compile(\n",
    "    optimizer=tf.keras.optimizers.Adam(0.1),\n",
    "    loss= 'mean_squared_error'\n",
    ")\n",
    "\n",
    "#Se indico como valor numérico (0.1) la Tasa de aprendizaje. Dice que tanto ajustar los pesos y sesgos.\n",
    "#Para la Función de pérdida se uso el error cuadrático medio."
   ]
  },
  {
   "cell_type": "code",
   "execution_count": 20,
   "id": "ebe6e98e",
   "metadata": {},
   "outputs": [
    {
     "name": "stdout",
     "output_type": "stream",
     "text": [
      "Comenzando entrenamiento...\n",
      "Modelo entrenado!\n"
     ]
    }
   ],
   "source": [
    "#Entrenamos el modelo con la función fit.\n",
    "#Ingresamos datos de entrada (Celsisus) y resultados (Fahrenheit) esperados. \n",
    "#Ademós le decimos cuantas vueltas lo intenta (en este caso, 1000, sin ningún motivo).\n",
    "\n",
    "print(\"Comenzando entrenamiento...\")\n",
    "historial = modelo.fit(celsius, fahrenheit,  epochs =1000, verbose=False)  #verbose para que no imprima muchas cosas.\n",
    "print(\"Modelo entrenado!\")"
   ]
  },
  {
   "cell_type": "code",
   "execution_count": 21,
   "id": "27c7b3aa",
   "metadata": {},
   "outputs": [
    {
     "ename": "AttributeError",
     "evalue": "module 'matplotlib' has no attribute 'xlabel'",
     "output_type": "error",
     "traceback": [
      "\u001b[1;31m---------------------------------------------------------------------------\u001b[0m",
      "\u001b[1;31mAttributeError\u001b[0m                            Traceback (most recent call last)",
      "Input \u001b[1;32mIn [21]\u001b[0m, in \u001b[0;36m<cell line: 5>\u001b[1;34m()\u001b[0m\n\u001b[0;32m      1\u001b[0m \u001b[38;5;66;03m#Antes de intentar predecir, se ve el resultado de la función de pérdida.\u001b[39;00m\n\u001b[0;32m      2\u001b[0m \u001b[38;5;66;03m#Esta función, básicamente, dice que tan mal están los resultados de la red en cada vuelta que dió. \u001b[39;00m\n\u001b[0;32m      4\u001b[0m \u001b[38;5;28;01mimport\u001b[39;00m \u001b[38;5;21;01mmatplotlib\u001b[39;00m \u001b[38;5;28;01mas\u001b[39;00m \u001b[38;5;21;01mplt\u001b[39;00m\n\u001b[1;32m----> 5\u001b[0m \u001b[43mplt\u001b[49m\u001b[38;5;241;43m.\u001b[39;49m\u001b[43mxlabel\u001b[49m(\u001b[38;5;124m\"\u001b[39m\u001b[38;5;124m#Epoca\u001b[39m\u001b[38;5;124m\"\u001b[39m)\n\u001b[0;32m      6\u001b[0m plt\u001b[38;5;241m.\u001b[39mylabel(\u001b[38;5;124m\"\u001b[39m\u001b[38;5;124mMagnitud de pérdida\u001b[39m\u001b[38;5;124m\"\u001b[39m)\n\u001b[0;32m      7\u001b[0m plt\u001b[38;5;241m.\u001b[39mplot(historial\u001b[38;5;241m.\u001b[39mhistory[\u001b[38;5;124m'\u001b[39m\u001b[38;5;124mloss\u001b[39m\u001b[38;5;124m'\u001b[39m])\n",
      "File \u001b[1;32mE:\\Anaconda\\envs\\tensorflow\\lib\\site-packages\\matplotlib\\_api\\__init__.py:222\u001b[0m, in \u001b[0;36mcaching_module_getattr.<locals>.__getattr__\u001b[1;34m(name)\u001b[0m\n\u001b[0;32m    220\u001b[0m \u001b[38;5;28;01mif\u001b[39;00m name \u001b[38;5;129;01min\u001b[39;00m props:\n\u001b[0;32m    221\u001b[0m     \u001b[38;5;28;01mreturn\u001b[39;00m props[name]\u001b[38;5;241m.\u001b[39m\u001b[38;5;21m__get__\u001b[39m(instance)\n\u001b[1;32m--> 222\u001b[0m \u001b[38;5;28;01mraise\u001b[39;00m \u001b[38;5;167;01mAttributeError\u001b[39;00m(\n\u001b[0;32m    223\u001b[0m     \u001b[38;5;124mf\u001b[39m\u001b[38;5;124m\"\u001b[39m\u001b[38;5;124mmodule \u001b[39m\u001b[38;5;132;01m{\u001b[39;00m\u001b[38;5;28mcls\u001b[39m\u001b[38;5;241m.\u001b[39m\u001b[38;5;18m__module__\u001b[39m\u001b[38;5;132;01m!r}\u001b[39;00m\u001b[38;5;124m has no attribute \u001b[39m\u001b[38;5;132;01m{\u001b[39;00mname\u001b[38;5;132;01m!r}\u001b[39;00m\u001b[38;5;124m\"\u001b[39m)\n",
      "\u001b[1;31mAttributeError\u001b[0m: module 'matplotlib' has no attribute 'xlabel'"
     ]
    }
   ],
   "source": [
    "#Antes de intentar predecir, se ve el resultado de la función de pérdida.\n",
    "#Esta función, básicamente, dice que tan mal están los resultados de la red en cada vuelta que dió. \n",
    "\n",
    "import matplotlib as plt\n",
    "plt.xlabel(\"#Epoca\")\n",
    "plt.ylabel(\"Magnitud de pérdida\")\n",
    "plt.plot(historial.history['loss'])\n",
    "\n",
    "\n",
    "\n"
   ]
  },
  {
   "cell_type": "code",
   "execution_count": 22,
   "id": "36228e59",
   "metadata": {},
   "outputs": [
    {
     "name": "stdout",
     "output_type": "stream",
     "text": [
      "Hagamos una predicción!\n",
      "1/1 [==============================] - 0s 30ms/step\n",
      "El resultado es [[211.74313]]fahrenheit\n"
     ]
    }
   ],
   "source": [
    "print(\"Hagamos una predicción!\")\n",
    "resultado = modelo.predict([100.0])\n",
    "print(\"El resultado es \" + str(resultado) + \"fahrenheit\")"
   ]
  },
  {
   "cell_type": "code",
   "execution_count": 23,
   "id": "792a43c9",
   "metadata": {},
   "outputs": [],
   "source": [
    "#Bastante bien."
   ]
  },
  {
   "cell_type": "code",
   "execution_count": 24,
   "id": "d829d97a",
   "metadata": {},
   "outputs": [
    {
     "name": "stdout",
     "output_type": "stream",
     "text": [
      "Variables internas del modelo\n",
      "[array([[1.7982011]], dtype=float32), array([31.923016], dtype=float32)]\n"
     ]
    }
   ],
   "source": [
    "#Que datos se asignaron después del entrenamiento, la conexión y el sesgo.\n",
    "\n",
    "print(\"Variables internas del modelo\")\n",
    "print(capa.get_weights())\n",
    "\n",
    "#El peso lo asigno a 1.798281 y el sesgo a 31.913939\n",
    "#Eso quiere decir que, en nuestra red, tenemos como entrada 100 que es multiplicado por 1.79 y luego\n",
    "#se le suma 31.39 y ahi obtiene el resultado en Fahrenheit.\n",
    "\n",
    "#La red, sin que le dijeramos la fórmula, llego a un resultado que es, practicamente, exacto."
   ]
  },
  {
   "cell_type": "code",
   "execution_count": 25,
   "id": "9e4ee2e2",
   "metadata": {},
   "outputs": [],
   "source": [
    "#Mismo problema con 2 capas y 3 neuronas en cada una.\n",
    "\n",
    "oculta1 =  tf.keras.layers.Dense(units=3, input_shape=[1])\n",
    "oculta2 =  tf.keras.layers.Dense(units=3)\n",
    "salida  =  tf.keras.layers.Dense(units=1)\n",
    "modelo  =  tf.keras.Sequential([oculta1, oculta2, salida])"
   ]
  },
  {
   "cell_type": "code",
   "execution_count": 26,
   "id": "c25af277",
   "metadata": {},
   "outputs": [],
   "source": [
    "modelo.compile(\n",
    "    optimizer=tf.keras.optimizers.Adam(0.1),\n",
    "    loss= 'mean_squared_error'\n",
    ")"
   ]
  },
  {
   "cell_type": "code",
   "execution_count": 27,
   "id": "eb74e82d",
   "metadata": {},
   "outputs": [
    {
     "name": "stdout",
     "output_type": "stream",
     "text": [
      "Comenzando entrenamiento...\n",
      "Modelo entrenado!\n"
     ]
    }
   ],
   "source": [
    "print(\"Comenzando entrenamiento...\")\n",
    "historial = modelo.fit(celsius, fahrenheit,  epochs =1000, verbose=False)  #verbose para que no imprima muchas cosas.\n",
    "print(\"Modelo entrenado!\")"
   ]
  },
  {
   "cell_type": "code",
   "execution_count": 28,
   "id": "42889c9f",
   "metadata": {},
   "outputs": [
    {
     "ename": "AttributeError",
     "evalue": "module 'matplotlib' has no attribute 'xlabel'",
     "output_type": "error",
     "traceback": [
      "\u001b[1;31m---------------------------------------------------------------------------\u001b[0m",
      "\u001b[1;31mAttributeError\u001b[0m                            Traceback (most recent call last)",
      "Input \u001b[1;32mIn [28]\u001b[0m, in \u001b[0;36m<cell line: 2>\u001b[1;34m()\u001b[0m\n\u001b[0;32m      1\u001b[0m \u001b[38;5;28;01mimport\u001b[39;00m \u001b[38;5;21;01mmatplotlib\u001b[39;00m \u001b[38;5;28;01mas\u001b[39;00m \u001b[38;5;21;01mplt\u001b[39;00m\n\u001b[1;32m----> 2\u001b[0m \u001b[43mplt\u001b[49m\u001b[38;5;241;43m.\u001b[39;49m\u001b[43mxlabel\u001b[49m(\u001b[38;5;124m\"\u001b[39m\u001b[38;5;124m#Epoca\u001b[39m\u001b[38;5;124m\"\u001b[39m)\n\u001b[0;32m      3\u001b[0m plt\u001b[38;5;241m.\u001b[39mylabel(\u001b[38;5;124m\"\u001b[39m\u001b[38;5;124mMagnitud de pérdida\u001b[39m\u001b[38;5;124m\"\u001b[39m)\n\u001b[0;32m      4\u001b[0m plt\u001b[38;5;241m.\u001b[39mplot(historial\u001b[38;5;241m.\u001b[39mhistory[\u001b[38;5;124m'\u001b[39m\u001b[38;5;124mloss\u001b[39m\u001b[38;5;124m'\u001b[39m])\n",
      "File \u001b[1;32mE:\\Anaconda\\envs\\tensorflow\\lib\\site-packages\\matplotlib\\_api\\__init__.py:222\u001b[0m, in \u001b[0;36mcaching_module_getattr.<locals>.__getattr__\u001b[1;34m(name)\u001b[0m\n\u001b[0;32m    220\u001b[0m \u001b[38;5;28;01mif\u001b[39;00m name \u001b[38;5;129;01min\u001b[39;00m props:\n\u001b[0;32m    221\u001b[0m     \u001b[38;5;28;01mreturn\u001b[39;00m props[name]\u001b[38;5;241m.\u001b[39m\u001b[38;5;21m__get__\u001b[39m(instance)\n\u001b[1;32m--> 222\u001b[0m \u001b[38;5;28;01mraise\u001b[39;00m \u001b[38;5;167;01mAttributeError\u001b[39;00m(\n\u001b[0;32m    223\u001b[0m     \u001b[38;5;124mf\u001b[39m\u001b[38;5;124m\"\u001b[39m\u001b[38;5;124mmodule \u001b[39m\u001b[38;5;132;01m{\u001b[39;00m\u001b[38;5;28mcls\u001b[39m\u001b[38;5;241m.\u001b[39m\u001b[38;5;18m__module__\u001b[39m\u001b[38;5;132;01m!r}\u001b[39;00m\u001b[38;5;124m has no attribute \u001b[39m\u001b[38;5;132;01m{\u001b[39;00mname\u001b[38;5;132;01m!r}\u001b[39;00m\u001b[38;5;124m\"\u001b[39m)\n",
      "\u001b[1;31mAttributeError\u001b[0m: module 'matplotlib' has no attribute 'xlabel'"
     ]
    }
   ],
   "source": [
    "import matplotlib as plt\n",
    "plt.xlabel(\"#Epoca\")\n",
    "plt.ylabel(\"Magnitud de pérdida\")\n",
    "plt.plot(historial.history['loss'])"
   ]
  },
  {
   "cell_type": "code",
   "execution_count": 29,
   "id": "13283018",
   "metadata": {},
   "outputs": [
    {
     "name": "stdout",
     "output_type": "stream",
     "text": [
      "Hagamos una predicción!\n",
      "1/1 [==============================] - 0s 39ms/step\n",
      "El resultado es [[211.74744]]fahrenheit\n"
     ]
    }
   ],
   "source": [
    "print(\"Hagamos una predicción!\")\n",
    "resultado = modelo.predict([100.0])\n",
    "print(\"El resultado es \" + str(resultado) + \"fahrenheit\")"
   ]
  },
  {
   "cell_type": "code",
   "execution_count": null,
   "id": "ac3ca6b5",
   "metadata": {},
   "outputs": [],
   "source": [
    "print(\"Variables internas del modelo\")\n",
    "print(oculta1.get_weights())\n",
    "print(oculta2.get_weights())\n",
    "print(salida.get_weights())\n",
    "\n",
    "#???????? No tiene sentido leerlos\n",
    "# ¯\\_(ツ)_/¯"
   ]
  }
 ],
 "metadata": {
  "kernelspec": {
   "display_name": "Python 3 (ipykernel)",
   "language": "python",
   "name": "python3"
  },
  "language_info": {
   "codemirror_mode": {
    "name": "ipython",
    "version": 3
   },
   "file_extension": ".py",
   "mimetype": "text/x-python",
   "name": "python",
   "nbconvert_exporter": "python",
   "pygments_lexer": "ipython3",
   "version": "3.8.13"
  }
 },
 "nbformat": 4,
 "nbformat_minor": 5
}
